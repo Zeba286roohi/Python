{
 "cells": [
  {
   "cell_type": "markdown",
   "metadata": {},
   "source": [
    "# Mini Project - Building a tic tac toe Game"
   ]
  },
  {
   "cell_type": "code",
   "execution_count": 1,
   "metadata": {},
   "outputs": [],
   "source": [
    "#There will be 9 entries in the tic tac toe game initially they are blank\n",
    "# We have used dictionary datatype to store the values \n",
    "d = {1:' ', 2:' ',3:' ',4:' ',5:' ',6:' ',7:' ',8:' ',9:' '}"
   ]
  },
  {
   "cell_type": "code",
   "execution_count": 2,
   "metadata": {},
   "outputs": [],
   "source": [
    "#function for displaying a row in grid\n",
    "def display_row(d,row_number):\n",
    "    print(\"     |     |     \")\n",
    "    print(\"  \",d[1 + 3*(row_number-1)],\"  \",\"|  \",d[2+3*(row_number-1)],\"  \",\"|  \",d[3+3*(row_number-1)],\"  \",sep ='')\n",
    "    print(\"     |     |     \")"
   ]
  },
  {
   "cell_type": "code",
   "execution_count": 3,
   "metadata": {},
   "outputs": [
    {
     "name": "stdout",
     "output_type": "stream",
     "text": [
      "     |     |     \n",
      "     |     |     \n",
      "     |     |     \n"
     ]
    }
   ],
   "source": [
    "display_row(d,1)"
   ]
  },
  {
   "cell_type": "code",
   "execution_count": 4,
   "metadata": {},
   "outputs": [],
   "source": [
    "#function for printing the horizontal sepration between two rows\n",
    "def display_horizonal_line(n):\n",
    "    for i in range(n):\n",
    "        print(\"=\",end ='')\n",
    "    print(\" \")"
   ]
  },
  {
   "cell_type": "code",
   "execution_count": 5,
   "metadata": {},
   "outputs": [
    {
     "name": "stdout",
     "output_type": "stream",
     "text": [
      "================= \n"
     ]
    }
   ],
   "source": [
    "display_horizonal_line(17)"
   ]
  },
  {
   "cell_type": "code",
   "execution_count": 6,
   "metadata": {},
   "outputs": [],
   "source": [
    "#function for printing the tic tac toe grid print row three time and line 2 times\n",
    "def display_board(d):\n",
    "    for i in range(1,4):\n",
    "        display_row(d,i)\n",
    "        if i < 3:\n",
    "            display_horizonal_line(17)\n"
   ]
  },
  {
   "cell_type": "code",
   "execution_count": 7,
   "metadata": {},
   "outputs": [
    {
     "name": "stdout",
     "output_type": "stream",
     "text": [
      "     |     |     \n",
      "     |     |     \n",
      "     |     |     \n",
      "================= \n",
      "     |     |     \n",
      "     |     |     \n",
      "     |     |     \n",
      "================= \n",
      "     |     |     \n",
      "     |     |     \n",
      "     |     |     \n"
     ]
    }
   ],
   "source": [
    "display_board(d)"
   ]
  },
  {
   "cell_type": "code",
   "execution_count": 8,
   "metadata": {},
   "outputs": [],
   "source": [
    "#this function takes the input\n",
    "#First it asks the name of first player\n",
    "#Then it asks what symbol 1st player will choose\n",
    "#Then it asks for name of second player and gives second player another symbol\n",
    "def player_name():   \n",
    "    user_1 = input(\"Hi! Please enter name of first player\")  #stores the name of first user\n",
    "    print(\"Hi\" , user_1)\n",
    "    user_1_char = input(\"Please choose your character x or o\") #stores the symbol of first user\n",
    "    while(user_1_char != 'x' and user_1_char != 'o' ):\n",
    "        print(\"Looks like you have not entered from x and o\")\n",
    "        user_1_char = input(\"Please choose your character x or o\")\n",
    "    user_2 = input(\"Hi! Please enter name of second player\") #stores the name of second user\n",
    "    if user_1_char == 'x': # condition for choosing symbol of second user.\n",
    "        user_2_char = 'o'\n",
    "    else:\n",
    "        user_2_char = 'x'\n",
    "    print(user_1,\"choosed\",user_1_char)\n",
    "    print(user_2,\"choosed\",user_2_char)\n",
    "    return((user_1 , user_1_char) , (user_2 , user_2_char))"
   ]
  },
  {
   "cell_type": "code",
   "execution_count": 9,
   "metadata": {},
   "outputs": [],
   "source": [
    "#checks whether all positions in a particular row are same\n",
    "#if they are same it returns true else it return false\n",
    "def row_check(d,char,i):\n",
    "    if d[1 + i*3] == char and d[2+i*3] == char and d[3+i*3] == char:\n",
    "        return True\n",
    "    else:\n",
    "        return False"
   ]
  },
  {
   "cell_type": "code",
   "execution_count": 10,
   "metadata": {},
   "outputs": [],
   "source": [
    "#checks whether all positions in a particular column are same\n",
    "#if they are same it returns true else it return false\n",
    "def column_check(d,char,i):\n",
    "    if d[i+1] == char and d[i+4] == char and d[i+7] == char:\n",
    "        return True\n",
    "    else:\n",
    "        return False"
   ]
  },
  {
   "cell_type": "code",
   "execution_count": 11,
   "metadata": {},
   "outputs": [],
   "source": [
    "#checks whether all positions in a particular diagonal are same\n",
    "#if they are same it returns true else it return false\n",
    "def diag1_check(d,char):\n",
    "    if d[1] == char and d[5] == char and d[9] == char:\n",
    "        return True\n",
    "    else:\n",
    "        return False"
   ]
  },
  {
   "cell_type": "code",
   "execution_count": 12,
   "metadata": {},
   "outputs": [],
   "source": [
    "#checks whether all positions in a particular diagonal are same\n",
    "#if they are same it returns true else it return false\n",
    "def diag2_check(d,char):\n",
    "    if d[3] == char and d[5] == char and d[7] == char:\n",
    "        return True\n",
    "    else:\n",
    "        return False"
   ]
  },
  {
   "cell_type": "code",
   "execution_count": 13,
   "metadata": {},
   "outputs": [],
   "source": [
    "#This function returns whether a player wins or not after his move\n",
    "#This function calls the above four function if any of the above function return true it will return true\n",
    "def won(d,char):\n",
    "    flag = 0                                            # initialize flag with zero\n",
    "    for i in range(3):\n",
    "        if row_check(d,char,i) == True:\n",
    "            flag = 1                                    # if any condition is satisfied it return true\n",
    "        if column_check(d,char,i) == True:\n",
    "            flag = 1\n",
    "    if diag1_check(d,char) == True or diag2_check(d,char) == True:\n",
    "        flag = 1\n",
    "    if flag == 1:\n",
    "        return True\n",
    "    else:\n",
    "        return False"
   ]
  },
  {
   "cell_type": "code",
   "execution_count": 14,
   "metadata": {},
   "outputs": [],
   "source": [
    "#check whether the matriz is completey filled or not\n",
    "def complete(d):                                     \n",
    "    flag = 1\n",
    "    for i in range(1,10):\n",
    "        if d[i] == ' ':\n",
    "            flag = 0\n",
    "    if flag == 0:\n",
    "        return False\n",
    "    else:\n",
    "        return True"
   ]
  },
  {
   "cell_type": "code",
   "execution_count": 15,
   "metadata": {},
   "outputs": [
    {
     "name": "stdout",
     "output_type": "stream",
     "text": [
      "Hi! Please enter name of first playerUjjwal\n",
      "Hi Ujjwal\n",
      "Please choose your character x or ox\n",
      "Hi! Please enter name of second playervishu\n",
      "Ujjwal choosed x\n",
      "vishu choosed o\n"
     ]
    }
   ],
   "source": [
    " (user_1 , user_1_char) , (user_2 , user_2_char)= player_name()"
   ]
  },
  {
   "cell_type": "code",
   "execution_count": 16,
   "metadata": {},
   "outputs": [
    {
     "name": "stdout",
     "output_type": "stream",
     "text": [
      "Following are number relation to grid cells\n",
      "     |     |     \n",
      "  1  |  2  |  3  \n",
      "     |     |     \n",
      "================= \n",
      "     |     |     \n",
      "  4  |  5  |  6  \n",
      "     |     |     \n",
      "================= \n",
      "     |     |     \n",
      "  7  |  8  |  9  \n",
      "     |     |     \n"
     ]
    }
   ],
   "source": [
    "#How number are connected to grid\n",
    "ref = {1:'1', 2:'2',3:'3',4:'4',5:'5',6:'6',7:'7',8:'8',9:'9'}\n",
    "print(\"Following are number relation to grid cells\")\n",
    "display_board(ref)"
   ]
  },
  {
   "cell_type": "code",
   "execution_count": 17,
   "metadata": {},
   "outputs": [
    {
     "name": "stdout",
     "output_type": "stream",
     "text": [
      "     |     |     \n",
      "     |     |     \n",
      "     |     |     \n",
      "================= \n",
      "     |     |     \n",
      "     |     |     \n",
      "     |     |     \n",
      "================= \n",
      "     |     |     \n",
      "     |     |     \n",
      "     |     |     \n",
      "Ujjwal Please select a cell from 1,2...9 where you want to put  x\n",
      "5\n",
      "     |     |     \n",
      "     |     |     \n",
      "     |     |     \n",
      "================= \n",
      "     |     |     \n",
      "     |  x  |     \n",
      "     |     |     \n",
      "================= \n",
      "     |     |     \n",
      "     |     |     \n",
      "     |     |     \n",
      "vishu Please select a cell from 1,2...9 where you want to put  o\n",
      "6\n",
      "     |     |     \n",
      "     |     |     \n",
      "     |     |     \n",
      "================= \n",
      "     |     |     \n",
      "     |  x  |  o  \n",
      "     |     |     \n",
      "================= \n",
      "     |     |     \n",
      "     |     |     \n",
      "     |     |     \n",
      "Ujjwal Please select a cell from 1,2...9 where you want to put  x\n",
      "8\n",
      "     |     |     \n",
      "     |     |     \n",
      "     |     |     \n",
      "================= \n",
      "     |     |     \n",
      "     |  x  |  o  \n",
      "     |     |     \n",
      "================= \n",
      "     |     |     \n",
      "     |  x  |     \n",
      "     |     |     \n",
      "vishu Please select a cell from 1,2...9 where you want to put  o\n",
      "2\n",
      "     |     |     \n",
      "     |  o  |     \n",
      "     |     |     \n",
      "================= \n",
      "     |     |     \n",
      "     |  x  |  o  \n",
      "     |     |     \n",
      "================= \n",
      "     |     |     \n",
      "     |  x  |     \n",
      "     |     |     \n",
      "Ujjwal Please select a cell from 1,2...9 where you want to put  x\n",
      "9\n",
      "     |     |     \n",
      "     |  o  |     \n",
      "     |     |     \n",
      "================= \n",
      "     |     |     \n",
      "     |  x  |  o  \n",
      "     |     |     \n",
      "================= \n",
      "     |     |     \n",
      "     |  x  |  x  \n",
      "     |     |     \n",
      "vishu Please select a cell from 1,2...9 where you want to put  o\n",
      "1\n",
      "     |     |     \n",
      "  o  |  o  |     \n",
      "     |     |     \n",
      "================= \n",
      "     |     |     \n",
      "     |  x  |  o  \n",
      "     |     |     \n",
      "================= \n",
      "     |     |     \n",
      "     |  x  |  x  \n",
      "     |     |     \n",
      "Ujjwal Please select a cell from 1,2...9 where you want to put  x\n",
      "7\n",
      "     |     |     \n",
      "  o  |  o  |     \n",
      "     |     |     \n",
      "================= \n",
      "     |     |     \n",
      "     |  x  |  o  \n",
      "     |     |     \n",
      "================= \n",
      "     |     |     \n",
      "  x  |  x  |  x  \n",
      "     |     |     \n",
      "Congrats! Ujjwal you won\n"
     ]
    }
   ],
   "source": [
    "#first chance is by deafult assigned to player 1\n",
    "player = 1\n",
    "# reinitializing the whole grid\n",
    "d = {1:' ', 2:' ',3:' ',4:' ',5:' ',6:' ',7:' ',8:' ',9:' '}\n",
    "display_board(d)\n",
    "while(True):\n",
    "    if player == 1:   # Condition for which player to move\n",
    "        print(user_1 , \"Please select a cell from 1,2...9 where you want to put \" , user_1_char)\n",
    "        place = input()\n",
    "        ls = ['1','2','3','4','5','6','7','8','9']    # Input number must be one to them\n",
    "        flag1 = 1 \n",
    "        flag2 = 1\n",
    "        while(flag1 == 1 or flag2 == 1):\n",
    "            flag1 = 1 \n",
    "            flag2 = 1\n",
    "            if place not in ls:    # Condition for place to in above list\n",
    "                print(\"You have choose not choose form 1 to 9 . Please choosen from 1 - 9\")\n",
    "                place = input(\"Try again\")\n",
    "                continue\n",
    "            else:\n",
    "                flag1 = 0\n",
    "            place = int(place)\n",
    "            if d[place] != ' ':   # Condition for than place to be unoccupied\n",
    "                print(\"This place is already occupied\")\n",
    "                place = input(\"Try again\")\n",
    "                continue\n",
    "            else:\n",
    "                flag2 = 0;\n",
    "        d[place] = user_1_char\n",
    "        display_board(d)\n",
    "        if won(d,user_1_char) == True:\n",
    "            print(\"Congrats!\",user_1,\"you won\")\n",
    "            break\n",
    "        player = 2                   #change the player\n",
    "    else:\n",
    "        print(user_2 , \"Please select a cell from 1,2...9 where you want to put \" , user_2_char)\n",
    "        place = input()\n",
    "        ls = ['1','2','3','4','5','6','7','8','9']\n",
    "        flag1 = 1 \n",
    "        flag2 = 1\n",
    "        while(flag1 == 1 or flag2 == 1):\n",
    "            flag1 = 1 \n",
    "            flag2 = 1\n",
    "            if place not in ls:\n",
    "                print(\"You have choose not choose form 1 to 9 . Please choosen from 1 - 9\")\n",
    "                place = input(\"Try again\")\n",
    "                continue\n",
    "            else:\n",
    "                flag1 = 0\n",
    "            place = int(place)\n",
    "            if d[place] != ' ':\n",
    "                print(\"This place is already occupied\")\n",
    "                place = input(\"Try again\")\n",
    "                continue\n",
    "            else:\n",
    "                flag2 = 0;     \n",
    "        d[place] = user_2_char\n",
    "        display_board(d)\n",
    "        if won(d,user_2_char) == True:\n",
    "            print(\"Congrats!\",user_2,\"you won\")\n",
    "            break\n",
    "        player = 1\n",
    "    if complete(d) == True:\n",
    "        print(\"Match Draw!!!!\")\n",
    "        break"
   ]
  },
  {
   "cell_type": "markdown",
   "metadata": {},
   "source": [
    "# END"
   ]
  }
 ],
 "metadata": {
  "kernelspec": {
   "display_name": "Python 3",
   "language": "python",
   "name": "python3"
  },
  "language_info": {
   "codemirror_mode": {
    "name": "ipython",
    "version": 3
   },
   "file_extension": ".py",
   "mimetype": "text/x-python",
   "name": "python",
   "nbconvert_exporter": "python",
   "pygments_lexer": "ipython3",
   "version": "3.6.5"
  }
 },
 "nbformat": 4,
 "nbformat_minor": 2
}
