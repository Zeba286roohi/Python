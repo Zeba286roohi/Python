{
 "cells": [
  {
   "cell_type": "markdown",
   "metadata": {},
   "source": [
    "# Object Oriented Programming"
   ]
  },
  {
   "cell_type": "markdown",
   "metadata": {},
   "source": [
    "### Basic Python object"
   ]
  },
  {
   "cell_type": "code",
   "execution_count": 1,
   "metadata": {},
   "outputs": [],
   "source": [
    "lst = [1,2,3]"
   ]
  },
  {
   "cell_type": "code",
   "execution_count": 2,
   "metadata": {},
   "outputs": [],
   "source": [
    "lst.append(4) #append is a method list object"
   ]
  },
  {
   "cell_type": "code",
   "execution_count": 3,
   "metadata": {},
   "outputs": [
    {
     "name": "stdout",
     "output_type": "stream",
     "text": [
      "[1, 2, 3, 4]\n"
     ]
    }
   ],
   "source": [
    "print(lst)"
   ]
  },
  {
   "cell_type": "markdown",
   "metadata": {},
   "source": [
    "### Object"
   ]
  },
  {
   "cell_type": "code",
   "execution_count": 4,
   "metadata": {},
   "outputs": [
    {
     "name": "stdout",
     "output_type": "stream",
     "text": [
      "<class 'int'>\n",
      "<class 'list'>\n",
      "<class 'tuple'>\n",
      "<class 'dict'>\n"
     ]
    }
   ],
   "source": [
    "print(type(1)) # we can use type function\n",
    "print(type([]))\n",
    "print(type(()))\n",
    "print(type({}))"
   ]
  },
  {
   "cell_type": "markdown",
   "metadata": {},
   "source": [
    "### class"
   ]
  },
  {
   "cell_type": "code",
   "execution_count": 5,
   "metadata": {},
   "outputs": [
    {
     "name": "stdout",
     "output_type": "stream",
     "text": [
      "<class '__main__.Sample'>\n"
     ]
    }
   ],
   "source": [
    "class Sample: # Create a new object type called Sample\n",
    "    pass\n",
    "\n",
    "\n",
    "x = Sample() # Instance of Sample\n",
    "\n",
    "print(type(x))"
   ]
  },
  {
   "cell_type": "markdown",
   "metadata": {},
   "source": [
    "### Attributes"
   ]
  },
  {
   "cell_type": "code",
   "execution_count": 7,
   "metadata": {},
   "outputs": [],
   "source": [
    "class Account:\n",
    "\n",
    "    def __init__(self,name):\n",
    "        self.name = name    #name is a attribute\n",
    "        \n",
    "person_1 = Account(name = 'Arpit')\n",
    "person_2 = Account(name = 'Amit')"
   ]
  },
  {
   "cell_type": "code",
   "execution_count": 8,
   "metadata": {},
   "outputs": [
    {
     "name": "stdout",
     "output_type": "stream",
     "text": [
      "Arpit Amit\n"
     ]
    }
   ],
   "source": [
    "print(person_1.name , person_2.name)"
   ]
  },
  {
   "cell_type": "markdown",
   "metadata": {},
   "source": [
    "### Class object Attribute"
   ]
  },
  {
   "cell_type": "code",
   "execution_count": 15,
   "metadata": {},
   "outputs": [],
   "source": [
    "class Account:\n",
    "    \n",
    "    nationality = \"Indian\" #class object Attribute\n",
    "    \n",
    "    def __init__(self,name,age):\n",
    "        self.name = name\n",
    "        self.age = age\n",
    "        \n",
    "person_1 = Account(name = 'Arpit', age = 21)\n",
    "person_2 = Account('Amit' ,21)"
   ]
  },
  {
   "cell_type": "code",
   "execution_count": 16,
   "metadata": {},
   "outputs": [
    {
     "name": "stdout",
     "output_type": "stream",
     "text": [
      "Indian Arpit 21\n"
     ]
    }
   ],
   "source": [
    "print(person_1.nationality , person_1.name , person_1.age)"
   ]
  },
  {
   "cell_type": "markdown",
   "metadata": {},
   "source": [
    "### Methods"
   ]
  },
  {
   "cell_type": "code",
   "execution_count": 26,
   "metadata": {},
   "outputs": [],
   "source": [
    "class Account:\n",
    "    \n",
    "    nationality = \"Indian\" #class object Attribute\n",
    "    interest = 0.08\n",
    "    \n",
    "    def __init__(self,name,age,balance = 0):\n",
    "        self.name = name\n",
    "        self.age = age\n",
    "        self.balance = balance\n",
    "    \n",
    "    def update_bal(self , add_amount = 0 ):\n",
    "        self.balance = self.balance + add_amount\n",
    "        \n",
    "    def get_interest(self):\n",
    "        return self.balance * self.interest\n",
    "    \n",
    "person_1 = Account(name = 'Arpit', age = 21)\n",
    "person_2 = Account('Amit' ,21)"
   ]
  },
  {
   "cell_type": "code",
   "execution_count": 27,
   "metadata": {},
   "outputs": [
    {
     "name": "stdout",
     "output_type": "stream",
     "text": [
      "Intial balance of  Arpit  is  0\n",
      "We added ruppes 20\n",
      "Final balance of  Arpit  is  20\n",
      "Interest on the amount is  1.6\n"
     ]
    }
   ],
   "source": [
    "print(\"Intial balance of \" , person_1.name ,\" is \" , person_1.balance)\n",
    "person_1.update_bal(20)\n",
    "print(\"We added ruppes 20\")\n",
    "print(\"Final balance of \" , person_1.name ,\" is \" , person_1.balance)\n",
    "print(\"Interest on the amount is \" , person_1.get_interest())"
   ]
  },
  {
   "cell_type": "markdown",
   "metadata": {},
   "source": [
    "## Inheritance"
   ]
  },
  {
   "cell_type": "code",
   "execution_count": 54,
   "metadata": {},
   "outputs": [],
   "source": [
    "class Genus_HOMO:\n",
    "    def __init__(self):\n",
    "        print(\"Genus Homo created\")\n",
    "\n",
    "    def whoAmI(self):\n",
    "        print(\"I am a Animal with Genus Homo meaning man\")\n",
    "\n",
    "    def eat(self):\n",
    "        print(\"Eating raw meat\")\n",
    "\n",
    "\n",
    "class Sapiens(Genus_HOMO):\n",
    "    def __init__(self):\n",
    "        Genus_HOMO.__init__(self)\n",
    "        print(\"Species Homo Sapiens created\")\n",
    "    def genus(self):\n",
    "        Genus_HOMO.whoAmI(self)\n",
    "\n",
    "    def whoAmI(self):\n",
    "        print(\"I am a Animal with Genus Homo meaning man and species sapiens that makes me homosapien meaning modern man\")\n",
    "\n",
    "    def code(self):\n",
    "        print(\"coding...\")"
   ]
  },
  {
   "cell_type": "code",
   "execution_count": 55,
   "metadata": {},
   "outputs": [
    {
     "name": "stdout",
     "output_type": "stream",
     "text": [
      "Genus Homo created\n",
      "Species Homo Sapiens created\n"
     ]
    }
   ],
   "source": [
    "d = Sapiens()"
   ]
  },
  {
   "cell_type": "code",
   "execution_count": 56,
   "metadata": {},
   "outputs": [
    {
     "name": "stdout",
     "output_type": "stream",
     "text": [
      "I am a Animal with Genus Homo meaning man and species sapiens that makes me homosapien meaning modern man\n"
     ]
    }
   ],
   "source": [
    "d.whoAmI()"
   ]
  },
  {
   "cell_type": "code",
   "execution_count": 57,
   "metadata": {},
   "outputs": [
    {
     "name": "stdout",
     "output_type": "stream",
     "text": [
      "Eating raw meat\n"
     ]
    }
   ],
   "source": [
    "d.eat()"
   ]
  },
  {
   "cell_type": "code",
   "execution_count": 58,
   "metadata": {},
   "outputs": [
    {
     "name": "stdout",
     "output_type": "stream",
     "text": [
      "coding...\n"
     ]
    }
   ],
   "source": [
    "d.code()"
   ]
  },
  {
   "cell_type": "code",
   "execution_count": 59,
   "metadata": {},
   "outputs": [
    {
     "name": "stdout",
     "output_type": "stream",
     "text": [
      "I am a Animal with Genus Homo meaning man\n"
     ]
    }
   ],
   "source": [
    "d.genus()"
   ]
  },
  {
   "cell_type": "markdown",
   "metadata": {},
   "source": [
    "### Polymorphism"
   ]
  },
  {
   "cell_type": "code",
   "execution_count": 73,
   "metadata": {},
   "outputs": [],
   "source": [
    "class Sapiens(Genus_HOMO):\n",
    "    def __init__(self):\n",
    "        Genus_HOMO.__init__(self)\n",
    "        print(\"Species Homo Sapiens created\")\n",
    "    def genus(self):\n",
    "        Genus_HOMO.whoAmI(self)\n",
    "\n",
    "    def whoAmI(self):\n",
    "        print(\"I am a Animal with Genus Homo meaning man and species sapiens that makes me homosapien meaning modern man\")\n",
    "\n",
    "    def code(self):\n",
    "        print(\"coding...\")\n",
    "\n",
    "class Eractus(Genus_HOMO):\n",
    "    def __init__(self):\n",
    "        Genus_HOMO.__init__(self)\n",
    "        print(\"Species Homo Eractus created\")\n",
    "    def genus(self):\n",
    "        Genus_HOMO.whoAmI(self)\n",
    "\n",
    "    def whoAmI(self):\n",
    "        print(\"I am a Animal with Genus Homo meaning man and species Eractus that makes me homoeractus\")\n",
    "\n",
    "    def code(self):\n",
    "        print(\"can't code\")"
   ]
  },
  {
   "cell_type": "code",
   "execution_count": 74,
   "metadata": {},
   "outputs": [
    {
     "name": "stdout",
     "output_type": "stream",
     "text": [
      "Genus Homo created\n",
      "Species Homo Sapiens created\n",
      "Genus Homo created\n",
      "Species Homo Eractus created\n"
     ]
    }
   ],
   "source": [
    "person_1 = Sapiens()\n",
    "person_2 = Eractus()"
   ]
  },
  {
   "cell_type": "code",
   "execution_count": 75,
   "metadata": {},
   "outputs": [
    {
     "name": "stdout",
     "output_type": "stream",
     "text": [
      "I am a Animal with Genus Homo meaning man and species sapiens that makes me homosapien meaning modern man\n"
     ]
    }
   ],
   "source": [
    "person_1.whoAmI()"
   ]
  },
  {
   "cell_type": "code",
   "execution_count": 76,
   "metadata": {},
   "outputs": [
    {
     "name": "stdout",
     "output_type": "stream",
     "text": [
      "I am a Animal with Genus Homo meaning man and species Eractus that makes me homoeractus\n"
     ]
    }
   ],
   "source": [
    "person_2.whoAmI()"
   ]
  },
  {
   "cell_type": "code",
   "execution_count": 77,
   "metadata": {},
   "outputs": [
    {
     "name": "stdout",
     "output_type": "stream",
     "text": [
      "I am a Animal with Genus Homo meaning man and species sapiens that makes me homosapien meaning modern man\n",
      "None\n",
      "I am a Animal with Genus Homo meaning man and species Eractus that makes me homoeractus\n",
      "None\n"
     ]
    }
   ],
   "source": [
    "for species in [person_1 , person_2]:\n",
    "    print(species.whoAmI())"
   ]
  },
  {
   "cell_type": "code",
   "execution_count": 79,
   "metadata": {},
   "outputs": [
    {
     "name": "stdout",
     "output_type": "stream",
     "text": [
      "coding...\n",
      "can't code\n"
     ]
    }
   ],
   "source": [
    "def discription(species):\n",
    "    species.code()\n",
    "discription(person_1)\n",
    "discription(person_2)"
   ]
  },
  {
   "cell_type": "markdown",
   "metadata": {},
   "source": [
    "### Special Methods"
   ]
  },
  {
   "cell_type": "code",
   "execution_count": 83,
   "metadata": {},
   "outputs": [],
   "source": [
    "class Book:\n",
    "    def __init__(self, title, author, pages):\n",
    "        print(\"A book is created\")\n",
    "        self.title = title\n",
    "        self.author = author\n",
    "        self.pages = pages\n",
    "\n",
    "    def __str__(self):\n",
    "        return (\"Title: %s, author: %s, pages: %s\"\n",
    "                %(self.title, self.author, self.pages))\n",
    "\n",
    "    def __len__(self):\n",
    "        return self.pages\n",
    "\n",
    "    def __del__(self):\n",
    "        print(\"A book is destroyed\")"
   ]
  },
  {
   "cell_type": "code",
   "execution_count": 84,
   "metadata": {},
   "outputs": [
    {
     "name": "stdout",
     "output_type": "stream",
     "text": [
      "A book is created\n",
      "Title: Homosapiens, author: Yuval Noah Harari, pages: 500\n",
      "500\n",
      "A book is destroyed\n"
     ]
    }
   ],
   "source": [
    "book = Book(\"Homosapiens\", \"Yuval Noah Harari\", 500)\n",
    "\n",
    "#Special Methods\n",
    "print(book)\n",
    "print(len(book))\n",
    "del book"
   ]
  },
  {
   "cell_type": "markdown",
   "metadata": {},
   "source": [
    "# END"
   ]
  }
 ],
 "metadata": {
  "kernelspec": {
   "display_name": "Python 3",
   "language": "python",
   "name": "python3"
  },
  "language_info": {
   "codemirror_mode": {
    "name": "ipython",
    "version": 3
   },
   "file_extension": ".py",
   "mimetype": "text/x-python",
   "name": "python",
   "nbconvert_exporter": "python",
   "pygments_lexer": "ipython3",
   "version": "3.6.5"
  }
 },
 "nbformat": 4,
 "nbformat_minor": 2
}
